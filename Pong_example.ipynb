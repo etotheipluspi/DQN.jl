{
 "cells": [
  {
   "cell_type": "markdown",
   "metadata": {},
   "source": [
    "# Pong-v0 example\n",
    "\n",
    "This is a detailed tutorial, so if you just want to run the example, go to the top libary directory and run `julia pong_mail.jl` on the command line."
   ]
  },
  {
   "cell_type": "code",
   "execution_count": 1,
   "metadata": {
    "collapsed": false
   },
   "outputs": [
    {
     "name": "stderr",
     "output_type": "stream",
     "text": [
      "I tensorflow/stream_executor/dso_loader.cc:111] successfully opened CUDA library libcublas.so locally\n",
      "I tensorflow/stream_executor/dso_loader.cc:111] successfully opened CUDA library libcudnn.so.5 locally\n",
      "I tensorflow/stream_executor/dso_loader.cc:111] successfully opened CUDA library libcufft.so locally\n",
      "I tensorflow/stream_executor/dso_loader.cc:111] successfully opened CUDA library libcuda.so.1 locally\n",
      "I tensorflow/stream_executor/dso_loader.cc:111] successfully opened CUDA library libcurand.so locally\n",
      "I tensorflow/stream_executor/dso_loader.cc:128] successfully opened CUDA library libcublas.so locally\n",
      "I tensorflow/stream_executor/dso_loader.cc:128] successfully opened CUDA library libcudnn.so locally\n",
      "I tensorflow/stream_executor/dso_loader.cc:128] successfully opened CUDA library libcufft.so locally\n",
      "I tensorflow/stream_executor/dso_loader.cc:128] successfully opened CUDA library libcuda.so.1 locally\n",
      "I tensorflow/stream_executor/dso_loader.cc:128] successfully opened CUDA library libcurand.so locally\n"
     ]
    }
   ],
   "source": [
    "using Gym\n",
    "using Images\n",
    "using Colors\n",
    "include(\"dqn.jl\")\n",
    "using DQN"
   ]
  },
  {
   "cell_type": "markdown",
   "metadata": {},
   "source": [
    "## Loading the function for the default network for the Pong-v0 example\n",
    "\n",
    "This is a default convolutional neural network that follows the same architecture used in the DeepMind Atari paper. The user can define a more complex network architecture as long as the function still returns the required outputs and takes in the required inputs as described in the `README.md`."
   ]
  },
  {
   "cell_type": "code",
   "execution_count": 2,
   "metadata": {
    "collapsed": false
   },
   "outputs": [
    {
     "data": {
      "text/plain": [
       "createNetwork (generic function with 2 methods)"
      ]
     },
     "execution_count": 2,
     "metadata": {},
     "output_type": "execute_result"
    }
   ],
   "source": [
    "include(\"convnet1.jl\") # createNetwork defined here"
   ]
  },
  {
   "cell_type": "markdown",
   "metadata": {},
   "source": [
    "## Setting up the OpenAI gym environment and useful variables\n",
    "\n",
    "The environment is needed for the `frame_step` function and also needs to get passed into `trainDQN` and `simulateDQN` to get the monitoring capabilities to work."
   ]
  },
  {
   "cell_type": "code",
   "execution_count": 3,
   "metadata": {
    "collapsed": false
   },
   "outputs": [
    {
     "name": "stdout",
     "output_type": "stream",
     "text": [
      "ACTIONS = n_actions(env) = 6\n",
      "STATE_SHAPE = (80,80,TIME_FRAMES) = (80,80,4)\n"
     ]
    },
    {
     "name": "stderr",
     "output_type": "stream",
     "text": [
      "[2016-12-11 03:08:05,844] Making new env: Pong-v0\n"
     ]
    },
    {
     "data": {
      "text/plain": [
       "(80,80,4)"
      ]
     },
     "execution_count": 3,
     "metadata": {},
     "output_type": "execute_result"
    }
   ],
   "source": [
    "TIME_FRAMES = 4 # number of time frames in the state\n",
    "\n",
    "env = GymEnvironment(\"Pong-v0\")\n",
    "@show ACTIONS = n_actions(env)         # number of valid actions\n",
    "# @show STATE_SHAPE = obs_dimensions(env)[0]\n",
    "@show STATE_SHAPE = (80, 80, TIME_FRAMES)"
   ]
  },
  {
   "cell_type": "markdown",
   "metadata": {},
   "source": [
    "# Setting up function that interacts with the env\n",
    "\n",
    "Observe that since the state for Pong-v0 is an image, we need to scale it down, grayscale it and stack them consecutively to so time information is included in each state. The frame step function is a wrapping of the OpenAI Gym step function and normalizes the rewards to be between $[-1,1]$. The frame step function will depend on the environment/model, but if the user is interacting with OpenAI Gym, not very much work is needed here."
   ]
  },
  {
   "cell_type": "code",
   "execution_count": 4,
   "metadata": {
    "collapsed": false
   },
   "outputs": [
    {
     "data": {
      "text/plain": [
       "frame_step (generic function with 1 method)"
      ]
     },
     "execution_count": 4,
     "metadata": {},
     "output_type": "execute_result"
    }
   ],
   "source": [
    "function preprocess(x, prev_state)\n",
    "    grayscale = convert(Image{Gray}, colorim(x))\n",
    "    resized = Images.imresize(grayscale, (80, 80))\n",
    "    x = convert(Array{Float32}, data(resized))\n",
    "    if prev_state == nothing\n",
    "        cat(3, x, x, x, x)\n",
    "    else\n",
    "        cat(3, x, prev_state[:, :, 1:end-1])\n",
    "    end\n",
    "end\n",
    "\n",
    "function frame_step(action, prev_state)\n",
    "    x_t, r_t, is_terminal = step!(env, action)\n",
    "    # render(env)\n",
    "    s_t = preprocess(x_t, prev_state)\n",
    "    s_0 = is_terminal ? preprocess(reset(env), nothing) : nothing\n",
    "    s_t, r_t / 200.0, is_terminal, s_0\n",
    "end"
   ]
  },
  {
   "cell_type": "markdown",
   "metadata": {},
   "source": [
    "# Initializing the hyperparameters\n",
    "\n",
    "Look at `dqn.jl` for descriptions of the hyperparameters included in the custom type `HyperParameters`. The fields of are the parameters that the user will need to tune to get better performance on the network."
   ]
  },
  {
   "cell_type": "code",
   "execution_count": 5,
   "metadata": {
    "collapsed": false
   },
   "outputs": [
    {
     "data": {
      "text/plain": [
       "DQN.HyperParameters(3.0f-5,0.99f0,1000,4000.0f0,0.05f0,1.0f0,20000,32,1,7500,100000,6,(80,80,4))"
      ]
     },
     "execution_count": 5,
     "metadata": {},
     "output_type": "execute_result"
    }
   ],
   "source": [
    "hyper_params = HyperParameters(ACTIONS, STATE_SHAPE)"
   ]
  },
  {
   "cell_type": "markdown",
   "metadata": {},
   "source": [
    "# Training the DQN\n",
    "\n",
    "Running the function below will train the DQN, save the weights/vids/logs and also result in a very long output, which was why max number of episodes is so low. If the user wants to train the DQN, it is best to run `julia pong_main.jl` on the command line."
   ]
  },
  {
   "cell_type": "code",
   "execution_count": 6,
   "metadata": {
    "collapsed": false,
    "scrolled": true
   },
   "outputs": [
    {
     "name": "stderr",
     "output_type": "stream",
     "text": [
      "[2016-12-11 02:50:02,961] Creating monitor directory test/videos\n",
      "[2016-12-11 02:50:03,011] Starting new video recorder writing to /home/carol/DQN.jl/test/videos/openaigym.video.0.16329.video000000.mp4\n",
      "I tensorflow/core/common_runtime/gpu/gpu_device.cc:951] Found device 0 with properties: \n",
      "name: GeForce GTX 1080\n",
      "major: 6 minor: 1 memoryClockRate (GHz) 1.86\n",
      "pciBusID 0000:03:00.0\n",
      "Total memory: 7.92GiB\n",
      "Free memory: 7.45GiB\n",
      "I tensorflow/core/common_runtime/gpu/gpu_device.cc:972] DMA: 0 \n",
      "I tensorflow/core/common_runtime/gpu/gpu_device.cc:982] 0:   Y \n",
      "I tensorflow/core/common_runtime/gpu/gpu_device.cc:1041] Creating TensorFlow device (/gpu:0) -> (device: 0, name: GeForce GTX 1080, pci bus id: 0000:03:00.0)\n"
     ]
    },
    {
     "name": "stdout",
     "output_type": "stream",
     "text": [
      "starting training\n",
      "Finished episode     0. Reward=  -0.100\n"
     ]
    },
    {
     "name": "stderr",
     "output_type": "stream",
     "text": [
      "[2016-12-11 02:51:22,549] Starting new video recorder writing to /home/carol/DQN.jl/test/videos/openaigym.video.0.16329.video000001.mp4\n"
     ]
    },
    {
     "name": "stdout",
     "output_type": "stream",
     "text": [
      "Finished episode     1. Reward=  -0.100\n",
      "Finished episode     2. Reward=  -0.100\n",
      "Finished episode     3. Reward=  -0.105\n",
      "Finished episode     4. Reward=  -0.105\n",
      "Finished episode     5. Reward=  -0.105\n",
      "Finished episode     6. Reward=  -0.105\n",
      "Finished episode     7. Reward=  -0.105\n"
     ]
    },
    {
     "name": "stderr",
     "output_type": "stream",
     "text": [
      "[2016-12-11 02:59:48,202] Starting new video recorder writing to /home/carol/DQN.jl/test/videos/openaigym.video.0.16329.video000008.mp4\n"
     ]
    },
    {
     "name": "stdout",
     "output_type": "stream",
     "text": [
      "Finished episode     8. Reward=  -0.105\n",
      "Finished episode     9. Reward=  -0.100\n"
     ]
    },
    {
     "name": "stderr",
     "output_type": "stream",
     "text": [
      "[2016-12-11 03:02:21,396] Finished writing results. You can upload them to the scoreboard via gym.upload('/home/carol/DQN.jl/test/videos')\n"
     ]
    }
   ],
   "source": [
    "hyper_params.max_num_episodes = 10\n",
    "hyper_params.observe = 5\n",
    "trainDQN(env, frame_step, createNetwork, hyper_params, \"test\")"
   ]
  },
  {
   "cell_type": "markdown",
   "metadata": {},
   "source": [
    "# Simulating the DQN from saved weights\n",
    "\n",
    "The below function loads the pre-trained weights (which have only been trained for 8 hours) and simulates for 2 episodes. Restart the kernel if `trainDQN` was run before this or it will crash, which is another reason why it is best to run `julia pong_main.jl` on the command line."
   ]
  },
  {
   "cell_type": "code",
   "execution_count": 6,
   "metadata": {
    "collapsed": false
   },
   "outputs": [
    {
     "name": "stdout",
     "output_type": "stream",
     "text": [
      "Finished episode     0. Reward=  -0.070\n"
     ]
    },
    {
     "name": "stderr",
     "output_type": "stream",
     "text": [
      "[2016-12-11 03:08:08,856] Creating monitor directory /tmp/dqn/monitor/exp_Pong-v0_2016-12-11T03:08:08.834\n",
      "[2016-12-11 03:08:08,908] Starting new video recorder writing to /tmp/dqn/monitor/exp_Pong-v0_2016-12-11T03:08:08.834/openaigym.video.0.16939.video000000.mp4\n",
      "I tensorflow/core/common_runtime/gpu/gpu_device.cc:951] Found device 0 with properties: \n",
      "name: GeForce GTX 1080\n",
      "major: 6 minor: 1 memoryClockRate (GHz) 1.86\n",
      "pciBusID 0000:03:00.0\n",
      "Total memory: 7.92GiB\n",
      "Free memory: 7.45GiB\n",
      "I tensorflow/core/common_runtime/gpu/gpu_device.cc:972] DMA: 0 \n",
      "I tensorflow/core/common_runtime/gpu/gpu_device.cc:982] 0:   Y \n",
      "I tensorflow/core/common_runtime/gpu/gpu_device.cc:1041] Creating TensorFlow device (/gpu:0) -> (device: 0, name: GeForce GTX 1080, pci bus id: 0000:03:00.0)\n",
      "[2016-12-11 03:10:37,390] Starting new video recorder writing to /tmp/dqn/monitor/exp_Pong-v0_2016-12-11T03:08:08.834/openaigym.video.0.16939.video000001.mp4\n"
     ]
    },
    {
     "name": "stdout",
     "output_type": "stream",
     "text": [
      "Finished episode     1. Reward=  -0.060\n"
     ]
    },
    {
     "name": "stderr",
     "output_type": "stream",
     "text": [
      "[2016-12-11 03:12:55,514] Finished writing results. You can upload them to the scoreboard via gym.upload('/tmp/dqn/monitor/exp_Pong-v0_2016-12-11T03:08:08.834')\n"
     ]
    }
   ],
   "source": [
    "simulateDQN(env, frame_step, createNetwork, \"Pong-v0/saved_wgts/weights-300\", 2, hyper_params)"
   ]
  },
  {
   "cell_type": "code",
   "execution_count": null,
   "metadata": {
    "collapsed": true
   },
   "outputs": [],
   "source": []
  }
 ],
 "metadata": {
  "kernelspec": {
   "display_name": "Julia 0.5.0",
   "language": "julia",
   "name": "julia-0.5"
  },
  "language_info": {
   "file_extension": ".jl",
   "mimetype": "application/julia",
   "name": "julia",
   "version": "0.5.0"
  }
 },
 "nbformat": 4,
 "nbformat_minor": 2
}
